{
 "cells": [
  {
   "cell_type": "code",
   "execution_count": 28,
   "metadata": {},
   "outputs": [],
   "source": [
    "import csv\n",
    "import pandas as pd\n",
    "import seaborn as sns\n",
    "import numpy as np\n",
    "import matplotlib.pyplot as plt"
   ]
  },
  {
   "cell_type": "code",
   "execution_count": 14,
   "metadata": {},
   "outputs": [
    {
     "name": "stdout",
     "output_type": "stream",
     "text": [
      "<class 'pandas.core.frame.DataFrame'>\n",
      "RangeIndex: 368 entries, 0 to 367\n",
      "Data columns (total 7 columns):\n",
      "Sno               368 non-null int64\n",
      "Province/State    302 non-null object\n",
      "Country           368 non-null object\n",
      "Last Update       368 non-null object\n",
      "Confirmed         368 non-null float64\n",
      "Deaths            368 non-null float64\n",
      "Recovered         368 non-null float64\n",
      "dtypes: float64(3), int64(1), object(3)\n",
      "memory usage: 20.2+ KB\n"
     ]
    }
   ],
   "source": [
    "df=pd.read_csv(\"2019_nCoV_data.csv\")\n",
    "df.info()"
   ]
  },
  {
   "cell_type": "code",
   "execution_count": 15,
   "metadata": {},
   "outputs": [
    {
     "data": {
      "text/plain": [
       "0                 Anhui\n",
       "1               Beijing\n",
       "2             Chongqing\n",
       "3                Fujian\n",
       "4                 Gansu\n",
       "5             Guangdong\n",
       "6               Guangxi\n",
       "7               Guizhou\n",
       "8                Hainan\n",
       "9                 Hebei\n",
       "10         Heilongjiang\n",
       "11                Henan\n",
       "12            Hong Kong\n",
       "13                Hubei\n",
       "14                Hunan\n",
       "15       Inner Mongolia\n",
       "16              Jiangsu\n",
       "17              Jiangxi\n",
       "18                Jilin\n",
       "19             Liaoning\n",
       "20                Macau\n",
       "21              Ningxia\n",
       "22              Qinghai\n",
       "23              Shaanxi\n",
       "24             Shandong\n",
       "25             Shanghai\n",
       "26               Shanxi\n",
       "27              Sichuan\n",
       "28               Taiwan\n",
       "29              Tianjin\n",
       "             ...       \n",
       "338               Jilin\n",
       "339            Xinjiang\n",
       "340             Guizhou\n",
       "341             Ningxia\n",
       "342           Hong Kong\n",
       "343              Taiwan\n",
       "344               Macau\n",
       "345             Qinghai\n",
       "346               Tibet\n",
       "347          Washington\n",
       "348            Illinois\n",
       "349          California\n",
       "350             Arizona\n",
       "351                 NaN\n",
       "352                 NaN\n",
       "353                 NaN\n",
       "354                 NaN\n",
       "355                 NaN\n",
       "356                 NaN\n",
       "357                 NaN\n",
       "358                 NaN\n",
       "359             Ontario\n",
       "360    British Columbia\n",
       "361                 NaN\n",
       "362                 NaN\n",
       "363     New South Wales\n",
       "364            Victoria\n",
       "365          Queensland\n",
       "366             Bavaria\n",
       "367                 NaN\n",
       "Name: Province/State, Length: 368, dtype: object"
      ]
     },
     "execution_count": 15,
     "metadata": {},
     "output_type": "execute_result"
    }
   ],
   "source": [
    "df['Province/State']"
   ]
  },
  {
   "cell_type": "code",
   "execution_count": 16,
   "metadata": {},
   "outputs": [
    {
     "data": {
      "text/html": [
       "<div>\n",
       "<style scoped>\n",
       "    .dataframe tbody tr th:only-of-type {\n",
       "        vertical-align: middle;\n",
       "    }\n",
       "\n",
       "    .dataframe tbody tr th {\n",
       "        vertical-align: top;\n",
       "    }\n",
       "\n",
       "    .dataframe thead th {\n",
       "        text-align: right;\n",
       "    }\n",
       "</style>\n",
       "<table border=\"1\" class=\"dataframe\">\n",
       "  <thead>\n",
       "    <tr style=\"text-align: right;\">\n",
       "      <th></th>\n",
       "      <th>Sno</th>\n",
       "      <th>Province/State</th>\n",
       "      <th>Country</th>\n",
       "      <th>Last Update</th>\n",
       "      <th>Confirmed</th>\n",
       "      <th>Deaths</th>\n",
       "      <th>Recovered</th>\n",
       "    </tr>\n",
       "  </thead>\n",
       "  <tbody>\n",
       "    <tr>\n",
       "      <th>0</th>\n",
       "      <td>1</td>\n",
       "      <td>Anhui</td>\n",
       "      <td>China</td>\n",
       "      <td>1/22/2020 12:00</td>\n",
       "      <td>1.0</td>\n",
       "      <td>0.0</td>\n",
       "      <td>0.0</td>\n",
       "    </tr>\n",
       "    <tr>\n",
       "      <th>1</th>\n",
       "      <td>2</td>\n",
       "      <td>Beijing</td>\n",
       "      <td>China</td>\n",
       "      <td>1/22/2020 12:00</td>\n",
       "      <td>14.0</td>\n",
       "      <td>0.0</td>\n",
       "      <td>0.0</td>\n",
       "    </tr>\n",
       "    <tr>\n",
       "      <th>2</th>\n",
       "      <td>3</td>\n",
       "      <td>Chongqing</td>\n",
       "      <td>China</td>\n",
       "      <td>1/22/2020 12:00</td>\n",
       "      <td>6.0</td>\n",
       "      <td>0.0</td>\n",
       "      <td>0.0</td>\n",
       "    </tr>\n",
       "    <tr>\n",
       "      <th>3</th>\n",
       "      <td>4</td>\n",
       "      <td>Fujian</td>\n",
       "      <td>China</td>\n",
       "      <td>1/22/2020 12:00</td>\n",
       "      <td>1.0</td>\n",
       "      <td>0.0</td>\n",
       "      <td>0.0</td>\n",
       "    </tr>\n",
       "    <tr>\n",
       "      <th>4</th>\n",
       "      <td>5</td>\n",
       "      <td>Gansu</td>\n",
       "      <td>China</td>\n",
       "      <td>1/22/2020 12:00</td>\n",
       "      <td>0.0</td>\n",
       "      <td>0.0</td>\n",
       "      <td>0.0</td>\n",
       "    </tr>\n",
       "  </tbody>\n",
       "</table>\n",
       "</div>"
      ],
      "text/plain": [
       "   Sno Province/State Country      Last Update  Confirmed  Deaths  Recovered\n",
       "0    1          Anhui   China  1/22/2020 12:00        1.0     0.0        0.0\n",
       "1    2        Beijing   China  1/22/2020 12:00       14.0     0.0        0.0\n",
       "2    3      Chongqing   China  1/22/2020 12:00        6.0     0.0        0.0\n",
       "3    4         Fujian   China  1/22/2020 12:00        1.0     0.0        0.0\n",
       "4    5          Gansu   China  1/22/2020 12:00        0.0     0.0        0.0"
      ]
     },
     "execution_count": 16,
     "metadata": {},
     "output_type": "execute_result"
    }
   ],
   "source": [
    "df.head(5)"
   ]
  },
  {
   "cell_type": "code",
   "execution_count": 17,
   "metadata": {},
   "outputs": [
    {
     "data": {
      "text/html": [
       "<div>\n",
       "<style scoped>\n",
       "    .dataframe tbody tr th:only-of-type {\n",
       "        vertical-align: middle;\n",
       "    }\n",
       "\n",
       "    .dataframe tbody tr th {\n",
       "        vertical-align: top;\n",
       "    }\n",
       "\n",
       "    .dataframe thead th {\n",
       "        text-align: right;\n",
       "    }\n",
       "</style>\n",
       "<table border=\"1\" class=\"dataframe\">\n",
       "  <thead>\n",
       "    <tr style=\"text-align: right;\">\n",
       "      <th></th>\n",
       "      <th>Sno</th>\n",
       "      <th>Confirmed</th>\n",
       "      <th>Deaths</th>\n",
       "      <th>Recovered</th>\n",
       "    </tr>\n",
       "  </thead>\n",
       "  <tbody>\n",
       "    <tr>\n",
       "      <th>count</th>\n",
       "      <td>368.000000</td>\n",
       "      <td>368.000000</td>\n",
       "      <td>368.000000</td>\n",
       "      <td>368.000000</td>\n",
       "    </tr>\n",
       "    <tr>\n",
       "      <th>mean</th>\n",
       "      <td>184.500000</td>\n",
       "      <td>68.638587</td>\n",
       "      <td>1.600543</td>\n",
       "      <td>1.290761</td>\n",
       "    </tr>\n",
       "    <tr>\n",
       "      <th>std</th>\n",
       "      <td>106.376689</td>\n",
       "      <td>348.146908</td>\n",
       "      <td>12.819038</td>\n",
       "      <td>7.721637</td>\n",
       "    </tr>\n",
       "    <tr>\n",
       "      <th>min</th>\n",
       "      <td>1.000000</td>\n",
       "      <td>0.000000</td>\n",
       "      <td>0.000000</td>\n",
       "      <td>0.000000</td>\n",
       "    </tr>\n",
       "    <tr>\n",
       "      <th>25%</th>\n",
       "      <td>92.750000</td>\n",
       "      <td>2.000000</td>\n",
       "      <td>0.000000</td>\n",
       "      <td>0.000000</td>\n",
       "    </tr>\n",
       "    <tr>\n",
       "      <th>50%</th>\n",
       "      <td>184.500000</td>\n",
       "      <td>7.000000</td>\n",
       "      <td>0.000000</td>\n",
       "      <td>0.000000</td>\n",
       "    </tr>\n",
       "    <tr>\n",
       "      <th>75%</th>\n",
       "      <td>276.250000</td>\n",
       "      <td>33.500000</td>\n",
       "      <td>0.000000</td>\n",
       "      <td>0.000000</td>\n",
       "    </tr>\n",
       "    <tr>\n",
       "      <th>max</th>\n",
       "      <td>368.000000</td>\n",
       "      <td>4586.000000</td>\n",
       "      <td>162.000000</td>\n",
       "      <td>90.000000</td>\n",
       "    </tr>\n",
       "  </tbody>\n",
       "</table>\n",
       "</div>"
      ],
      "text/plain": [
       "              Sno    Confirmed      Deaths   Recovered\n",
       "count  368.000000   368.000000  368.000000  368.000000\n",
       "mean   184.500000    68.638587    1.600543    1.290761\n",
       "std    106.376689   348.146908   12.819038    7.721637\n",
       "min      1.000000     0.000000    0.000000    0.000000\n",
       "25%     92.750000     2.000000    0.000000    0.000000\n",
       "50%    184.500000     7.000000    0.000000    0.000000\n",
       "75%    276.250000    33.500000    0.000000    0.000000\n",
       "max    368.000000  4586.000000  162.000000   90.000000"
      ]
     },
     "execution_count": 17,
     "metadata": {},
     "output_type": "execute_result"
    }
   ],
   "source": [
    "df.describe()"
   ]
  },
  {
   "cell_type": "markdown",
   "metadata": {},
   "source": [
    "## Visualization"
   ]
  },
  {
   "cell_type": "code",
   "execution_count": 19,
   "metadata": {},
   "outputs": [
    {
     "data": {
      "text/plain": [
       "['1/22/2020 12:00',\n",
       " '1/23/20 12:00 PM',\n",
       " '1/24/2020 12:00 PM',\n",
       " '1/25/2020 10:00 PM',\n",
       " '1/25/2020 12:00 PM',\n",
       " '1/26/2020 23:00',\n",
       " '1/27/2020 20:30',\n",
       " '1/28/2020 23:00',\n",
       " '1/28/2020 18:00',\n",
       " '1/29/2020 21:00']"
      ]
     },
     "execution_count": 19,
     "metadata": {},
     "output_type": "execute_result"
    }
   ],
   "source": [
    "unique_dates=list(df['Last Update'].unique())\n",
    "unique_dates"
   ]
  },
  {
   "cell_type": "code",
   "execution_count": 21,
   "metadata": {},
   "outputs": [],
   "source": [
    "confirmed=[]\n",
    "recovered=[]\n",
    "deaths=[]\n",
    "for x in unique_dates:\n",
    "    confirmed.append(df[df['Last Update']== x]['Confirmed'].sum())\n",
    "    recovered.append(df[df['Last Update']== x]['Recovered'].sum())\n",
    "    deaths.append(df[df['Last Update']== x]['Deaths'].sum())\n"
   ]
  },
  {
   "cell_type": "code",
   "execution_count": 23,
   "metadata": {},
   "outputs": [
    {
     "data": {
      "text/html": [
       "<div>\n",
       "<style scoped>\n",
       "    .dataframe tbody tr th:only-of-type {\n",
       "        vertical-align: middle;\n",
       "    }\n",
       "\n",
       "    .dataframe tbody tr th {\n",
       "        vertical-align: top;\n",
       "    }\n",
       "\n",
       "    .dataframe thead th {\n",
       "        text-align: right;\n",
       "    }\n",
       "</style>\n",
       "<table border=\"1\" class=\"dataframe\">\n",
       "  <thead>\n",
       "    <tr style=\"text-align: right;\">\n",
       "      <th></th>\n",
       "      <th>Last Update</th>\n",
       "      <th>confirmed</th>\n",
       "      <th>recovered</th>\n",
       "      <th>deaths</th>\n",
       "    </tr>\n",
       "  </thead>\n",
       "  <tbody>\n",
       "    <tr>\n",
       "      <th>0</th>\n",
       "      <td>1/22/2020 12:00</td>\n",
       "      <td>554.0</td>\n",
       "      <td>0.0</td>\n",
       "      <td>0.0</td>\n",
       "    </tr>\n",
       "    <tr>\n",
       "      <th>1</th>\n",
       "      <td>1/23/20 12:00 PM</td>\n",
       "      <td>653.0</td>\n",
       "      <td>30.0</td>\n",
       "      <td>18.0</td>\n",
       "    </tr>\n",
       "    <tr>\n",
       "      <th>2</th>\n",
       "      <td>1/24/2020 12:00 PM</td>\n",
       "      <td>939.0</td>\n",
       "      <td>36.0</td>\n",
       "      <td>26.0</td>\n",
       "    </tr>\n",
       "    <tr>\n",
       "      <th>3</th>\n",
       "      <td>1/25/2020 10:00 PM</td>\n",
       "      <td>1156.0</td>\n",
       "      <td>43.0</td>\n",
       "      <td>52.0</td>\n",
       "    </tr>\n",
       "    <tr>\n",
       "      <th>4</th>\n",
       "      <td>1/25/2020 12:00 PM</td>\n",
       "      <td>860.0</td>\n",
       "      <td>6.0</td>\n",
       "      <td>4.0</td>\n",
       "    </tr>\n",
       "    <tr>\n",
       "      <th>5</th>\n",
       "      <td>1/26/2020 23:00</td>\n",
       "      <td>2793.0</td>\n",
       "      <td>54.0</td>\n",
       "      <td>80.0</td>\n",
       "    </tr>\n",
       "    <tr>\n",
       "      <th>6</th>\n",
       "      <td>1/27/2020 20:30</td>\n",
       "      <td>4472.0</td>\n",
       "      <td>63.0</td>\n",
       "      <td>107.0</td>\n",
       "    </tr>\n",
       "    <tr>\n",
       "      <th>7</th>\n",
       "      <td>1/28/2020 23:00</td>\n",
       "      <td>6052.0</td>\n",
       "      <td>110.0</td>\n",
       "      <td>132.0</td>\n",
       "    </tr>\n",
       "    <tr>\n",
       "      <th>8</th>\n",
       "      <td>1/28/2020 18:00</td>\n",
       "      <td>1.0</td>\n",
       "      <td>0.0</td>\n",
       "      <td>0.0</td>\n",
       "    </tr>\n",
       "    <tr>\n",
       "      <th>9</th>\n",
       "      <td>1/29/2020 21:00</td>\n",
       "      <td>7779.0</td>\n",
       "      <td>133.0</td>\n",
       "      <td>170.0</td>\n",
       "    </tr>\n",
       "  </tbody>\n",
       "</table>\n",
       "</div>"
      ],
      "text/plain": [
       "          Last Update  confirmed  recovered  deaths\n",
       "0     1/22/2020 12:00      554.0        0.0     0.0\n",
       "1    1/23/20 12:00 PM      653.0       30.0    18.0\n",
       "2  1/24/2020 12:00 PM      939.0       36.0    26.0\n",
       "3  1/25/2020 10:00 PM     1156.0       43.0    52.0\n",
       "4  1/25/2020 12:00 PM      860.0        6.0     4.0\n",
       "5     1/26/2020 23:00     2793.0       54.0    80.0\n",
       "6     1/27/2020 20:30     4472.0       63.0   107.0\n",
       "7     1/28/2020 23:00     6052.0      110.0   132.0\n",
       "8     1/28/2020 18:00        1.0        0.0     0.0\n",
       "9     1/29/2020 21:00     7779.0      133.0   170.0"
      ]
     },
     "execution_count": 23,
     "metadata": {},
     "output_type": "execute_result"
    }
   ],
   "source": [
    "to_plot = pd.DataFrame()\n",
    "to_plot['Last Update'] = unique_dates\n",
    "to_plot['confirmed'] = confirmed\n",
    "to_plot['recovered'] = recovered\n",
    "to_plot['deaths'] = deaths\n",
    "\n",
    "to_plot.head(10)"
   ]
  },
  {
   "cell_type": "code",
   "execution_count": 24,
   "metadata": {},
   "outputs": [
    {
     "data": {
      "text/plain": [
       "<matplotlib.axes._subplots.AxesSubplot at 0x1a176a9dd8>"
      ]
     },
     "execution_count": 24,
     "metadata": {},
     "output_type": "execute_result"
    },
    {
     "data": {
      "image/png": "[encoded data removed]",
      "text/plain": [
       "<Figure size 432x288 with 1 Axes>"
      ]
     },
     "metadata": {
      "needs_background": "light"
     },
     "output_type": "display_data"
    }
   ],
   "source": [
    "sns.lineplot(data=to_plot,x=\"Last Update\",y=\"confirmed\")"
   ]
  },
  {
   "cell_type": "code",
   "execution_count": 30,
   "metadata": {},
   "outputs": [
    {
     "data": {
      "text/plain": [
       "([0, 1, 2, 3, 4, 5, 6, 7, 8, 9], <a list of 10 Text xticklabel objects>)"
      ]
     },
     "execution_count": 30,
     "metadata": {},
     "output_type": "execute_result"
    },
    {
     "data": {
      "image/png": "[encoded data removed]",
      "text/plain": [
       "<Figure size 1440x1080 with 1 Axes>"
      ]
     },
     "metadata": {
      "needs_background": "light"
     },
     "output_type": "display_data"
    }
   ],
   "source": [
    "line_plot = to_plot.set_index('Last Update')\n",
    "plt.figure(figsize=(20,15))\n",
    "sns.lineplot(data=line_plot)\n",
    "plt.xticks(rotation=15)"
   ]
  },
  {
   "cell_type": "code",
   "execution_count": null,
   "metadata": {},
   "outputs": [],
   "source": []
  }
 ],
 "metadata": {
  "kernelspec": {
   "display_name": "Python 3",
   "language": "python",
   "name": "python3"
  },
  "language_info": {
   "codemirror_mode": {
    "name": "ipython",
    "version": 3
   },
   "file_extension": ".py",
   "mimetype": "text/x-python",
   "name": "python",
   "nbconvert_exporter": "python",
   "pygments_lexer": "ipython3",
   "version": "3.7.3"
  }
 },
 "nbformat": 4,
 "nbformat_minor": 2
}
